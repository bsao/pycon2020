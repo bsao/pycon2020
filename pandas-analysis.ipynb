{
 "cells": [
  {
   "cell_type": "code",
   "execution_count": 1,
   "metadata": {},
   "outputs": [],
   "source": [
    "import pandas as pd\n",
    "import pyarrow as pa\n",
    "import pyarrow.parquet as pq"
   ]
  },
  {
   "cell_type": "code",
   "execution_count": 2,
   "metadata": {},
   "outputs": [],
   "source": [
    "table = pq.read_table('result-covid')"
   ]
  },
  {
   "cell_type": "code",
   "execution_count": 3,
   "metadata": {},
   "outputs": [],
   "source": [
    "df = table.to_pandas()"
   ]
  },
  {
   "cell_type": "code",
   "execution_count": 4,
   "metadata": {},
   "outputs": [
    {
     "output_type": "execute_result",
     "data": {
      "text/plain": "             date epidemiological_week state       city  \\\n71116  2020-02-27                    9    SP       None   \n71117  2020-02-26                    9    SP  São Paulo   \n71118  2020-02-26                    9    SP       None   \n71119  2020-02-25                    9    SP  São Paulo   \n71120  2020-02-25                    9    SP       None   \n\n      last_available_confirmed last_available_confirmed_per_100k_inhabitants  \n71116                        1                                       0.00218  \n71117                        1                                       0.00816  \n71118                        1                                       0.00218  \n71119                        1                                       0.00816  \n71120                        1                                       0.00218  ",
      "text/html": "<div>\n<style scoped>\n    .dataframe tbody tr th:only-of-type {\n        vertical-align: middle;\n    }\n\n    .dataframe tbody tr th {\n        vertical-align: top;\n    }\n\n    .dataframe thead th {\n        text-align: right;\n    }\n</style>\n<table border=\"1\" class=\"dataframe\">\n  <thead>\n    <tr style=\"text-align: right;\">\n      <th></th>\n      <th>date</th>\n      <th>epidemiological_week</th>\n      <th>state</th>\n      <th>city</th>\n      <th>last_available_confirmed</th>\n      <th>last_available_confirmed_per_100k_inhabitants</th>\n    </tr>\n  </thead>\n  <tbody>\n    <tr>\n      <th>71116</th>\n      <td>2020-02-27</td>\n      <td>9</td>\n      <td>SP</td>\n      <td>None</td>\n      <td>1</td>\n      <td>0.00218</td>\n    </tr>\n    <tr>\n      <th>71117</th>\n      <td>2020-02-26</td>\n      <td>9</td>\n      <td>SP</td>\n      <td>São Paulo</td>\n      <td>1</td>\n      <td>0.00816</td>\n    </tr>\n    <tr>\n      <th>71118</th>\n      <td>2020-02-26</td>\n      <td>9</td>\n      <td>SP</td>\n      <td>None</td>\n      <td>1</td>\n      <td>0.00218</td>\n    </tr>\n    <tr>\n      <th>71119</th>\n      <td>2020-02-25</td>\n      <td>9</td>\n      <td>SP</td>\n      <td>São Paulo</td>\n      <td>1</td>\n      <td>0.00816</td>\n    </tr>\n    <tr>\n      <th>71120</th>\n      <td>2020-02-25</td>\n      <td>9</td>\n      <td>SP</td>\n      <td>None</td>\n      <td>1</td>\n      <td>0.00218</td>\n    </tr>\n  </tbody>\n</table>\n</div>"
     },
     "metadata": {},
     "execution_count": 4
    }
   ],
   "source": [
    "df.tail()"
   ]
  },
  {
   "cell_type": "code",
   "execution_count": 5,
   "metadata": {},
   "outputs": [],
   "source": [
    "sp = df[df[\"state\"] == \"SP\"]"
   ]
  },
  {
   "cell_type": "code",
   "execution_count": 6,
   "metadata": {},
   "outputs": [
    {
     "output_type": "execute_result",
     "data": {
      "text/plain": "             date epidemiological_week state       city  \\\n71116  2020-02-27                    9    SP       None   \n71117  2020-02-26                    9    SP  São Paulo   \n71118  2020-02-26                    9    SP       None   \n71119  2020-02-25                    9    SP  São Paulo   \n71120  2020-02-25                    9    SP       None   \n\n      last_available_confirmed last_available_confirmed_per_100k_inhabitants  \n71116                        1                                       0.00218  \n71117                        1                                       0.00816  \n71118                        1                                       0.00218  \n71119                        1                                       0.00816  \n71120                        1                                       0.00218  ",
      "text/html": "<div>\n<style scoped>\n    .dataframe tbody tr th:only-of-type {\n        vertical-align: middle;\n    }\n\n    .dataframe tbody tr th {\n        vertical-align: top;\n    }\n\n    .dataframe thead th {\n        text-align: right;\n    }\n</style>\n<table border=\"1\" class=\"dataframe\">\n  <thead>\n    <tr style=\"text-align: right;\">\n      <th></th>\n      <th>date</th>\n      <th>epidemiological_week</th>\n      <th>state</th>\n      <th>city</th>\n      <th>last_available_confirmed</th>\n      <th>last_available_confirmed_per_100k_inhabitants</th>\n    </tr>\n  </thead>\n  <tbody>\n    <tr>\n      <th>71116</th>\n      <td>2020-02-27</td>\n      <td>9</td>\n      <td>SP</td>\n      <td>None</td>\n      <td>1</td>\n      <td>0.00218</td>\n    </tr>\n    <tr>\n      <th>71117</th>\n      <td>2020-02-26</td>\n      <td>9</td>\n      <td>SP</td>\n      <td>São Paulo</td>\n      <td>1</td>\n      <td>0.00816</td>\n    </tr>\n    <tr>\n      <th>71118</th>\n      <td>2020-02-26</td>\n      <td>9</td>\n      <td>SP</td>\n      <td>None</td>\n      <td>1</td>\n      <td>0.00218</td>\n    </tr>\n    <tr>\n      <th>71119</th>\n      <td>2020-02-25</td>\n      <td>9</td>\n      <td>SP</td>\n      <td>São Paulo</td>\n      <td>1</td>\n      <td>0.00816</td>\n    </tr>\n    <tr>\n      <th>71120</th>\n      <td>2020-02-25</td>\n      <td>9</td>\n      <td>SP</td>\n      <td>None</td>\n      <td>1</td>\n      <td>0.00218</td>\n    </tr>\n  </tbody>\n</table>\n</div>"
     },
     "metadata": {},
     "execution_count": 6
    }
   ],
   "source": [
    "sp.tail()\n"
   ]
  },
  {
   "cell_type": "code",
   "execution_count": 7,
   "metadata": {},
   "outputs": [],
   "source": [
    "sp_table = pa.Table.from_pandas(df)\n",
    "pq.write_table(sp_table, 'analysis-sp.parquet')"
   ]
  }
 ],
 "metadata": {
  "language_info": {
   "codemirror_mode": {
    "name": "ipython",
    "version": 3
   },
   "file_extension": ".py",
   "mimetype": "text/x-python",
   "name": "python",
   "nbconvert_exporter": "python",
   "pygments_lexer": "ipython3",
   "version": "3.7.5-final"
  },
  "orig_nbformat": 2,
  "kernelspec": {
   "name": "python37564bitpyarrowvenv2ea2d1d664074408a961dc01d263519a",
   "display_name": "Python 3.7.5 64-bit ('pyarrow': venv)"
  }
 },
 "nbformat": 4,
 "nbformat_minor": 2
}